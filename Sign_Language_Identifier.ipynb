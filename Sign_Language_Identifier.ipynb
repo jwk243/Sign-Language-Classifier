{
  "nbformat": 4,
  "nbformat_minor": 0,
  "metadata": {
    "colab": {
      "name": "Sign_Language_Identifier.ipynb",
      "provenance": [],
      "collapsed_sections": []
    },
    "kernelspec": {
      "name": "python3",
      "display_name": "Python 3"
    }
  },
  "cells": [
    {
      "cell_type": "code",
      "metadata": {
        "id": "2F0Kth-KEFRs"
      },
      "source": [
        "from __future__ import print_function\n",
        "import numpy as np\n",
        "import pandas as pd\n",
        "import matplotlib.pyplot as plt\n",
        "import matplotlib.image as mpimg\n",
        "import math\n",
        "\n",
        "import torch\n",
        "from torch.autograd import Variable\n",
        "import torchvision\n",
        "import torchvision.transforms as transforms\n",
        "import torch.nn as nn\n",
        "import torch.nn.functional as F\n",
        "import torch.optim as optim\n",
        "from torch.utils.data.dataset import Dataset\n",
        "from torch.utils.data import DataLoader\n",
        "from torchvision import datasets, transforms\n",
        "from torchvision.utils import save_image"
      ],
      "execution_count": null,
      "outputs": []
    },
    {
      "cell_type": "code",
      "metadata": {
        "id": "h4-PEZavb83r",
        "outputId": "e87c8214-d354-45e1-e46d-efb9fd06f005",
        "colab": {
          "base_uri": "https://localhost:8080/",
          "height": 122
        }
      },
      "source": [
        "from google.colab import drive\n",
        "drive.mount('/content/drive')"
      ],
      "execution_count": null,
      "outputs": [
        {
          "output_type": "stream",
          "text": [
            "Go to this URL in a browser: https://accounts.google.com/o/oauth2/auth?client_id=947318989803-6bn6qk8qdgf4n4g3pfee6491hc0brc4i.apps.googleusercontent.com&redirect_uri=urn%3aietf%3awg%3aoauth%3a2.0%3aoob&response_type=code&scope=email%20https%3a%2f%2fwww.googleapis.com%2fauth%2fdocs.test%20https%3a%2f%2fwww.googleapis.com%2fauth%2fdrive%20https%3a%2f%2fwww.googleapis.com%2fauth%2fdrive.photos.readonly%20https%3a%2f%2fwww.googleapis.com%2fauth%2fpeopleapi.readonly\n",
            "\n",
            "Enter your authorization code:\n",
            "··········\n",
            "Mounted at /content/drive\n"
          ],
          "name": "stdout"
        }
      ]
    },
    {
      "cell_type": "markdown",
      "metadata": {
        "id": "MzwcMdBJQeUz"
      },
      "source": [
        "# **Identification Using PyTorch**"
      ]
    },
    {
      "cell_type": "markdown",
      "metadata": {
        "id": "5mp_JmX7Ej13"
      },
      "source": [
        "Preprocess and divide the data into pixels and labels.\n"
      ]
    },
    {
      "cell_type": "code",
      "metadata": {
        "id": "vhKJNyTUEfi0"
      },
      "source": [
        "class SignLanguageDataset(Dataset):\n",
        "    \"\"\"Sign Language dataset.\"\"\"\n",
        "\n",
        "    def __init__(self, train = True, transform = None):\n",
        "        \n",
        "        self.train = train\n",
        "        self.transform = transform\n",
        "        \n",
        "        if self.train == True:\n",
        "            self.signs = pd.read_csv('./drive/My Drive/sign-language-mnist/sign_mnist_train.csv')\n",
        "        else:\n",
        "            self.signs = pd.read_csv('./drive/My Drive/sign-language-mnist/sign_mnist_test.csv')\n",
        "            \n",
        "        self.images = self.signs.iloc[:, 1:].values\n",
        "        self.labels = self.signs.iloc[:, 0].values\n",
        "        \n",
        "        self.images = np.reshape(self.images, (self.images.shape[0], 1, 28, 28)) / 255\n",
        "        self.labels = np.array(self.labels)\n",
        "            \n",
        "        \n",
        "    def __getitem__(self, index):\n",
        "        \n",
        "        image = self.images[index, :, :]\n",
        "        \n",
        "        label = self.labels[index]\n",
        "        \n",
        "        sample = {'image': image, 'label': label}\n",
        "        \n",
        "        return sample\n",
        "        \n",
        "    def __len__(self):\n",
        "        return self.images.__len__()"
      ],
      "execution_count": null,
      "outputs": []
    },
    {
      "cell_type": "markdown",
      "metadata": {
        "id": "bul1jJgBEv-0"
      },
      "source": [
        "Define the convolutional neural network. It has five layers. The network passes through 4 convolutional layers which allow the network to capture more high-level features and gain a better understanding of the image. We max pool at the end of the first two convolutions, which help to reduce noise as well as computation power required and extract more dominant features. Additionally, each convolution layer applies batch normalization to help normalize the data and increase computation speed while also reducing generalization error. Finally the image is passed through two linearizers to allow the data to be classified to one of 24 different outputs. "
      ]
    },
    {
      "cell_type": "code",
      "metadata": {
        "id": "HJh3Pv-nEr8T"
      },
      "source": [
        "class Net(nn.Module):\n",
        "    def __init__(self):\n",
        "        super(Net, self).__init__()\n",
        "        \n",
        "        self.conv1 = nn.Conv2d(1, 200, kernel_size = 5)\n",
        "        self.batch_norm1 = nn.BatchNorm2d(200)\n",
        "        self.pool1 = nn.MaxPool2d(kernel_size = 2, stride = 2, padding = 0)\n",
        "        \n",
        "        self.conv2 = nn.Conv2d(200, 150, kernel_size = 5)\n",
        "        self.batch_norm2 = nn.BatchNorm2d(150)\n",
        "        self.pool2 = nn.MaxPool2d(kernel_size = 2, stride = 2, padding = 0)\n",
        "        \n",
        "        self.conv3 = nn.Conv2d(150, 100, kernel_size = 1)\n",
        "        self.batch_norm3 = nn.BatchNorm2d(100)\n",
        "        \n",
        "        self.conv4 = nn.Conv2d(100, 80, kernel_size = 1)\n",
        "        self.batch_norm4 = nn.BatchNorm2d(80)\n",
        "        \n",
        "        self.fc1 = nn.Linear(1280, 250)\n",
        "        self.fc2 = nn.Linear(250, 25)\n",
        "        \n",
        "    def forward(self, x):\n",
        "        x = self.conv1(x)\n",
        "        x = self.batch_norm1(x)\n",
        "        x = F.relu(x)\n",
        "        x = self.pool1(x)\n",
        "        \n",
        "        x = self.conv2(x)\n",
        "        x = self.batch_norm2(x)\n",
        "        x = F.relu(x)\n",
        "        x = self.pool2(x)\n",
        "        \n",
        "        x = self.conv3(x)\n",
        "        x = self.batch_norm3(x)\n",
        "        x = F.relu(x)\n",
        "        \n",
        "        x = self.conv4(x)\n",
        "        x = self.batch_norm4(x)\n",
        "        x = F.relu(x)\n",
        "        \n",
        "        x = x.view(x.size(0), -1)\n",
        "        \n",
        "        x = F.relu(self.fc1(x))\n",
        "        x = self.fc2(x)\n",
        "        \n",
        "        x = F.log_softmax(x, dim=1)\n",
        "        \n",
        "        return x"
      ],
      "execution_count": null,
      "outputs": []
    },
    {
      "cell_type": "markdown",
      "metadata": {
        "id": "M4vGJqKuE7_T"
      },
      "source": [
        "Initialize the network and its hyperparameters. "
      ]
    },
    {
      "cell_type": "code",
      "metadata": {
        "id": "C2iGZULGE4QI"
      },
      "source": [
        "torch.manual_seed(71399)\n",
        "device = torch.device(\"cuda\" if  torch.cuda.is_available() else \"cpu\")\n",
        "learning_rate = 0.002\n",
        "num_epochs = 5\n",
        "model = Net()\n",
        "model.to(device)\n",
        "optimizer = torch.optim.Adam(model.parameters(), lr = learning_rate, weight_decay = 0.003)"
      ],
      "execution_count": null,
      "outputs": []
    },
    {
      "cell_type": "markdown",
      "metadata": {
        "id": "Glzxh5MXFGVG"
      },
      "source": [
        "Define the training and testing functions, using a zero gradient optimizer and outputting the accuracy."
      ]
    },
    {
      "cell_type": "code",
      "metadata": {
        "id": "H5mJubKcFBPo"
      },
      "source": [
        "def train(model, optimizer, epoch, device, train_loader):\n",
        "    result = []\n",
        "    model.train()\n",
        "    for idx, data in enumerate(train_loader):\n",
        "        \n",
        "        image = data['image'].type(torch.FloatTensor).to(device)\n",
        "        label = data['label'].type(torch.LongTensor).to(device)\n",
        "    \n",
        "        optimizer.zero_grad()\n",
        "        output = model(image)\n",
        "\n",
        "        loss = F.nll_loss(output, label)\n",
        "        \n",
        "        loss.backward()\n",
        "        optimizer.step()\n",
        "        \n",
        "        if idx % 1000 == 0:\n",
        "            print('Train Epoch: {} [{}/{} ({:.0f}%)]\\tLoss: {:.6f}'.format(\n",
        "                epoch, idx * len(image), len(train_loader.dataset), \n",
        "                100. * idx / len(train_loader), loss.item()))\n",
        "    result.append(loss.item())\n",
        "    return result\n",
        "\n",
        "\n",
        "def test(model, device, test_loader):\n",
        "    model.eval()\n",
        "    test_loss = 0\n",
        "    correct = 0\n",
        "    with torch.no_grad():\n",
        "        for idx, data in enumerate(test_loader):\n",
        "            \n",
        "            image = data['image'].type(torch.FloatTensor).to(device)\n",
        "            label = data['label'].type(torch.LongTensor).to(device)\n",
        "            \n",
        "            output = model(image)\n",
        "            test_loss += F.nll_loss(output, label, size_average=False).item() \n",
        "            pred = output.data.max(1, keepdim=True)[1]\n",
        "            correct += pred.eq(label.data.view_as(pred)).sum()\n",
        "\n",
        "    test_loss /= len(test_loader.dataset)\n",
        "    print('\\nTest set: Average loss: {:.4f}, Accuracy: {}/{} ({:.0f}%)\\n'.format(\n",
        "        test_loss, correct, len(test_loader.dataset),\n",
        "        100. * correct / len(test_loader.dataset)))\n",
        "    return 100. * correct / len(test_loader.dataset)"
      ],
      "execution_count": null,
      "outputs": []
    },
    {
      "cell_type": "markdown",
      "metadata": {
        "id": "H4HA4W43FW0O"
      },
      "source": [
        "Prepare the testing and training set "
      ]
    },
    {
      "cell_type": "code",
      "metadata": {
        "id": "GvfL1dqOFSqn"
      },
      "source": [
        "batch_size_train = 4\n",
        "batch_size_test = 4\n",
        "dataset_train = SignLanguageDataset(train = True)\n",
        "dataset_test = SignLanguageDataset(train = False)\n",
        "train_loader = DataLoader(dataset = dataset_train, batch_size = batch_size_train)\n",
        "test_loader = DataLoader(dataset = dataset_test, batch_size = batch_size_test)"
      ],
      "execution_count": null,
      "outputs": []
    },
    {
      "cell_type": "code",
      "metadata": {
        "id": "dXt5w_AhlQUs"
      },
      "source": [
        "import matplotlib.pyplot as plt\n",
        "%matplotlib inline\n",
        "\n",
        "def plot_result(loss_log):\n",
        "  plt.figure(figsize=(10,9))\n",
        "  x_axis = [] \n",
        "  for i in range(1, num_epochs+1):\n",
        "    x_axis.append(i)\n",
        "  plt.plot(x_axis, loss_log)\n",
        "  plt.show()\n",
        "  # plt.plot(np.ones(len(acc_log)), linestyle='dashed')"
      ],
      "execution_count": null,
      "outputs": []
    },
    {
      "cell_type": "markdown",
      "metadata": {
        "id": "pA7cSSkzFgBL"
      },
      "source": [
        "Run the neural network for 5 epochs."
      ]
    },
    {
      "cell_type": "code",
      "metadata": {
        "id": "xjTxvaDOFdfs",
        "outputId": "b861e6c2-9e98-4851-d823-e328214419f1",
        "colab": {
          "base_uri": "https://localhost:8080/",
          "height": 480
        }
      },
      "source": [
        "trl = []\n",
        "acc = [] \n",
        "for epoch in range(1, num_epochs + 1):\n",
        "    result = train(model, optimizer, epoch, device, train_loader)\n",
        "    trl.append(result)\n",
        "    accuracy = test(model, device, test_loader)\n",
        "    acc.append(accuracy)\n",
        "plot_result(trl)\n",
        "plot_result(acc)"
      ],
      "execution_count": null,
      "outputs": [
        {
          "output_type": "stream",
          "text": [
            "Train Epoch: 1 [0/27455 (0%)]\tLoss: 3.236501\n",
            "Train Epoch: 1 [4000/27455 (15%)]\tLoss: 0.468095\n",
            "Train Epoch: 1 [8000/27455 (29%)]\tLoss: 0.170471\n",
            "Train Epoch: 1 [12000/27455 (44%)]\tLoss: 0.064487\n",
            "Train Epoch: 1 [16000/27455 (58%)]\tLoss: 0.053596\n"
          ],
          "name": "stdout"
        },
        {
          "output_type": "error",
          "ename": "KeyboardInterrupt",
          "evalue": "ignored",
          "traceback": [
            "\u001b[0;31m---------------------------------------------------------------------------\u001b[0m",
            "\u001b[0;31mKeyboardInterrupt\u001b[0m                         Traceback (most recent call last)",
            "\u001b[0;32m<ipython-input-78-9e5dbc28c103>\u001b[0m in \u001b[0;36m<module>\u001b[0;34m()\u001b[0m\n\u001b[1;32m      2\u001b[0m \u001b[0macc\u001b[0m \u001b[0;34m=\u001b[0m \u001b[0;34m[\u001b[0m\u001b[0;34m]\u001b[0m\u001b[0;34m\u001b[0m\u001b[0;34m\u001b[0m\u001b[0m\n\u001b[1;32m      3\u001b[0m \u001b[0;32mfor\u001b[0m \u001b[0mepoch\u001b[0m \u001b[0;32min\u001b[0m \u001b[0mrange\u001b[0m\u001b[0;34m(\u001b[0m\u001b[0;36m1\u001b[0m\u001b[0;34m,\u001b[0m \u001b[0mnum_epochs\u001b[0m \u001b[0;34m+\u001b[0m \u001b[0;36m1\u001b[0m\u001b[0;34m)\u001b[0m\u001b[0;34m:\u001b[0m\u001b[0;34m\u001b[0m\u001b[0;34m\u001b[0m\u001b[0m\n\u001b[0;32m----> 4\u001b[0;31m     \u001b[0mresult\u001b[0m \u001b[0;34m=\u001b[0m \u001b[0mtrain\u001b[0m\u001b[0;34m(\u001b[0m\u001b[0mmodel\u001b[0m\u001b[0;34m,\u001b[0m \u001b[0moptimizer\u001b[0m\u001b[0;34m,\u001b[0m \u001b[0mepoch\u001b[0m\u001b[0;34m,\u001b[0m \u001b[0mdevice\u001b[0m\u001b[0;34m,\u001b[0m \u001b[0mtrain_loader\u001b[0m\u001b[0;34m)\u001b[0m\u001b[0;34m\u001b[0m\u001b[0;34m\u001b[0m\u001b[0m\n\u001b[0m\u001b[1;32m      5\u001b[0m     \u001b[0mtrl\u001b[0m\u001b[0;34m.\u001b[0m\u001b[0mappend\u001b[0m\u001b[0;34m(\u001b[0m\u001b[0mresult\u001b[0m\u001b[0;34m)\u001b[0m\u001b[0;34m\u001b[0m\u001b[0;34m\u001b[0m\u001b[0m\n\u001b[1;32m      6\u001b[0m     \u001b[0maccuracy\u001b[0m \u001b[0;34m=\u001b[0m \u001b[0mtest\u001b[0m\u001b[0;34m(\u001b[0m\u001b[0mmodel\u001b[0m\u001b[0;34m,\u001b[0m \u001b[0mdevice\u001b[0m\u001b[0;34m,\u001b[0m \u001b[0mtest_loader\u001b[0m\u001b[0;34m)\u001b[0m\u001b[0;34m\u001b[0m\u001b[0;34m\u001b[0m\u001b[0m\n",
            "\u001b[0;32m<ipython-input-75-535b3a9cfb9a>\u001b[0m in \u001b[0;36mtrain\u001b[0;34m(model, optimizer, epoch, device, train_loader)\u001b[0m\n\u001b[1;32m     12\u001b[0m         \u001b[0mloss\u001b[0m \u001b[0;34m=\u001b[0m \u001b[0mF\u001b[0m\u001b[0;34m.\u001b[0m\u001b[0mnll_loss\u001b[0m\u001b[0;34m(\u001b[0m\u001b[0moutput\u001b[0m\u001b[0;34m,\u001b[0m \u001b[0mlabel\u001b[0m\u001b[0;34m)\u001b[0m\u001b[0;34m\u001b[0m\u001b[0;34m\u001b[0m\u001b[0m\n\u001b[1;32m     13\u001b[0m \u001b[0;34m\u001b[0m\u001b[0m\n\u001b[0;32m---> 14\u001b[0;31m         \u001b[0mloss\u001b[0m\u001b[0;34m.\u001b[0m\u001b[0mbackward\u001b[0m\u001b[0;34m(\u001b[0m\u001b[0;34m)\u001b[0m\u001b[0;34m\u001b[0m\u001b[0;34m\u001b[0m\u001b[0m\n\u001b[0m\u001b[1;32m     15\u001b[0m         \u001b[0moptimizer\u001b[0m\u001b[0;34m.\u001b[0m\u001b[0mstep\u001b[0m\u001b[0;34m(\u001b[0m\u001b[0;34m)\u001b[0m\u001b[0;34m\u001b[0m\u001b[0;34m\u001b[0m\u001b[0m\n\u001b[1;32m     16\u001b[0m \u001b[0;34m\u001b[0m\u001b[0m\n",
            "\u001b[0;32m/usr/local/lib/python3.6/dist-packages/torch/tensor.py\u001b[0m in \u001b[0;36mbackward\u001b[0;34m(self, gradient, retain_graph, create_graph)\u001b[0m\n\u001b[1;32m    164\u001b[0m                 \u001b[0mproducts\u001b[0m\u001b[0;34m.\u001b[0m \u001b[0mDefaults\u001b[0m \u001b[0mto\u001b[0m\u001b[0;31m \u001b[0m\u001b[0;31m`\u001b[0m\u001b[0;31m`\u001b[0m\u001b[0;32mFalse\u001b[0m\u001b[0;31m`\u001b[0m\u001b[0;31m`\u001b[0m\u001b[0;34m.\u001b[0m\u001b[0;34m\u001b[0m\u001b[0;34m\u001b[0m\u001b[0m\n\u001b[1;32m    165\u001b[0m         \"\"\"\n\u001b[0;32m--> 166\u001b[0;31m         \u001b[0mtorch\u001b[0m\u001b[0;34m.\u001b[0m\u001b[0mautograd\u001b[0m\u001b[0;34m.\u001b[0m\u001b[0mbackward\u001b[0m\u001b[0;34m(\u001b[0m\u001b[0mself\u001b[0m\u001b[0;34m,\u001b[0m \u001b[0mgradient\u001b[0m\u001b[0;34m,\u001b[0m \u001b[0mretain_graph\u001b[0m\u001b[0;34m,\u001b[0m \u001b[0mcreate_graph\u001b[0m\u001b[0;34m)\u001b[0m\u001b[0;34m\u001b[0m\u001b[0;34m\u001b[0m\u001b[0m\n\u001b[0m\u001b[1;32m    167\u001b[0m \u001b[0;34m\u001b[0m\u001b[0m\n\u001b[1;32m    168\u001b[0m     \u001b[0;32mdef\u001b[0m \u001b[0mregister_hook\u001b[0m\u001b[0;34m(\u001b[0m\u001b[0mself\u001b[0m\u001b[0;34m,\u001b[0m \u001b[0mhook\u001b[0m\u001b[0;34m)\u001b[0m\u001b[0;34m:\u001b[0m\u001b[0;34m\u001b[0m\u001b[0;34m\u001b[0m\u001b[0m\n",
            "\u001b[0;32m/usr/local/lib/python3.6/dist-packages/torch/autograd/__init__.py\u001b[0m in \u001b[0;36mbackward\u001b[0;34m(tensors, grad_tensors, retain_graph, create_graph, grad_variables)\u001b[0m\n\u001b[1;32m     97\u001b[0m     Variable._execution_engine.run_backward(\n\u001b[1;32m     98\u001b[0m         \u001b[0mtensors\u001b[0m\u001b[0;34m,\u001b[0m \u001b[0mgrad_tensors\u001b[0m\u001b[0;34m,\u001b[0m \u001b[0mretain_graph\u001b[0m\u001b[0;34m,\u001b[0m \u001b[0mcreate_graph\u001b[0m\u001b[0;34m,\u001b[0m\u001b[0;34m\u001b[0m\u001b[0;34m\u001b[0m\u001b[0m\n\u001b[0;32m---> 99\u001b[0;31m         allow_unreachable=True)  # allow_unreachable flag\n\u001b[0m\u001b[1;32m    100\u001b[0m \u001b[0;34m\u001b[0m\u001b[0m\n\u001b[1;32m    101\u001b[0m \u001b[0;34m\u001b[0m\u001b[0m\n",
            "\u001b[0;31mKeyboardInterrupt\u001b[0m: "
          ]
        }
      ]
    },
    {
      "cell_type": "markdown",
      "metadata": {
        "id": "x8MrvNjpISTq"
      },
      "source": [
        "Output accuracies for individual letters"
      ]
    },
    {
      "cell_type": "code",
      "metadata": {
        "id": "Oih5XtimFjj7"
      },
      "source": [
        "class_correct = list(0. for i in range(25))\n",
        "class_total = list(0. for i in range(25))\n",
        "with torch.no_grad():\n",
        "    for data in test_loader:\n",
        "        images = data['image']\n",
        "        images = images.type(torch.FloatTensor).to(device)\n",
        "        label = data['label']\n",
        "        label = label.type(torch.LongTensor).to(device)\n",
        "\n",
        "        outputs = model(images)\n",
        "        _, predicted = torch.max(outputs, 1)\n",
        "        c = (predicted == label).squeeze()\n",
        "        for i in range(len(label)):\n",
        "            idx = label[i]\n",
        "            class_correct[idx] += c[i].item()\n",
        "            class_total[idx] += 1\n",
        "\n",
        "signs = {'0': 'A', '1': 'B', '2': 'C', '3': 'D', '4': 'E', '5': 'F', \n",
        "         '6': 'G', '7': 'H', '8': 'I', '10': 'K', '11': 'L', '12': 'M', \n",
        "         '13': 'N', '14': 'O', '15': 'P', '16': 'Q', '17': 'R', '18': 'S', \n",
        "         '19': 'T', '20': 'U', '21': 'V', '22': 'W', '23': 'X', '24': 'Y' }\n",
        "for i in range(24):\n",
        "    if (class_total[i] == 0): class_total[i] = 1;\n",
        "    print(signs.get(str(i)))\n",
        "    print(100 * class_correct[i] / class_total[i])"
      ],
      "execution_count": null,
      "outputs": []
    },
    {
      "cell_type": "markdown",
      "metadata": {
        "id": "lg9LCRqoIdBo"
      },
      "source": [
        "Define function to output prediction given a preprocessed image"
      ]
    },
    {
      "cell_type": "code",
      "metadata": {
        "id": "DDf54dYbIZ5x"
      },
      "source": [
        "def predict(image):\n",
        "    images = image.type(torch.FloatTensor).to(device)\n",
        "    output = model(images)\n",
        "    print(output)\n",
        "    _, predicted = torch.max(output, 1)\n",
        "    print(predicted)\n",
        "    \n",
        "    signs = {'0': 'A', '1': 'B', '2': 'C', '3': 'D', '4': 'E', '5': 'F', \n",
        "         '6': 'G', '7': 'H', '8': 'I', '10': 'K', '11': 'L', '12': 'M', \n",
        "         '13': 'N', '14': 'O', '15': 'P', '16': 'Q', '17': 'R', '18': 'S', \n",
        "         '19': 'T', '20': 'U', '21': 'V', '22': 'W', '23': 'X', '24': 'Y' }\n",
        "    \n",
        "    softmax = torch.exp(output).cpu()\n",
        "    prob = list(softmax.detach().numpy())\n",
        "    predictions = np.argmax(prob, axis=1)\n",
        "    print(signs.get(str(predictions[0])))"
      ],
      "execution_count": null,
      "outputs": []
    },
    {
      "cell_type": "markdown",
      "metadata": {
        "id": "cSJBo3mKInHr"
      },
      "source": [
        "We use the Python Imaging Library (PIL) to process images."
      ]
    },
    {
      "cell_type": "code",
      "metadata": {
        "id": "zxd8YpvUIj-J"
      },
      "source": [
        "from PIL import Image, ImageOps\n",
        "import seaborn as sns"
      ],
      "execution_count": null,
      "outputs": []
    },
    {
      "cell_type": "markdown",
      "metadata": {
        "id": "qCZZgdrtIwsP"
      },
      "source": [
        "Attempt One to preprocess"
      ]
    },
    {
      "cell_type": "code",
      "metadata": {
        "id": "9im-RrwcIqZi"
      },
      "source": [
        "image_path = './drive/My Drive/sign-language-mnist/sign_mnist_test/L.png'\n",
        "l2 = './drive/My Drive/sign-language-mnist/sign_mnist_test/L2.png'\n",
        "\n",
        "l2 = Image.open(l2).convert('L')\n",
        "im = Image.open(image_path).convert('L')\n",
        "width = float(im.size[0])\n",
        "height = float(im.size[1])\n",
        "\n",
        "img = np.array(ImageOps.fit(im, (28,28), Image.ANTIALIAS))\n",
        "img2 = np.array(ImageOps.fit(l2, (28,28), Image.ANTIALIAS))\n",
        "              \n",
        "plt.imshow(img2, interpolation = 'nearest', cmap='Greys_r')\n",
        "plt.show()\n",
        "test_x = np.array(img2)\n",
        "test_x = img2.reshape(1, 1, 28, 28)\n",
        "\n",
        "plt.figure(figsize=(10,8))\n",
        "plt.subplot(221)\n",
        "sns.heatmap(data=img2)\n",
        "\n",
        "test_x  = torch.from_numpy(test_x)\n",
        "\n",
        "predict(test_x)"
      ],
      "execution_count": null,
      "outputs": []
    },
    {
      "cell_type": "markdown",
      "metadata": {
        "id": "Ryb3E8WnI0sl"
      },
      "source": [
        "Attempt two to preprocess"
      ]
    },
    {
      "cell_type": "code",
      "metadata": {
        "id": "m50Whgf0ItSf"
      },
      "source": [
        "import cv2 \n",
        "def image_predict(image_path)\n",
        "  df = pd.DataFrame()\n",
        "  img = cv2.imread(image_path, 0)\n",
        "  re = cv2.resize(img, (28, 28))\n",
        "  arr = np.asarray(re).ravel()\n",
        "  df = df.append([arr], ignore_index=True)\n",
        "  df = df.values.reshape(1, 1, 28, 28)\n",
        "  df = df.astype('float32')\n",
        "  df /= 255\n",
        "  test_x  = torch.from_numpy(df)\n",
        "\n",
        "  predict(test_x)"
      ],
      "execution_count": null,
      "outputs": []
    },
    {
      "cell_type": "markdown",
      "metadata": {
        "id": "S8kk0ZEqI8T1"
      },
      "source": [
        "Attempt three by trying to manually resize"
      ]
    },
    {
      "cell_type": "code",
      "metadata": {
        "id": "RBwMZrw7I3Wp",
        "outputId": "7b097ecb-e78a-4c3b-9926-c3ae6a1602e0",
        "colab": {
          "base_uri": "https://localhost:8080/",
          "height": 130
        }
      },
      "source": [
        "image_path = '/kaggle/input/sign-language-a-v2/asign.png'\n",
        "im = Image.open(image_path).convert('L')\n",
        "width = float(im.size[0])\n",
        "height = float(im.size[1])\n",
        "newImage = Image.new('L', (28,28), (255))\n",
        "​\n",
        "if width > height:\n",
        "    nheight = int(round((20.0/width*height), 0)) #1\n",
        "    if(nheight == 0) :\n",
        "        nheight = 1\n",
        "    img = img.resize((20,nheight), Image.ANTIALIAS).filter(ImageFilter.SHARPEN) #1\n",
        "    wtop = int(round(((28-nheight)/2), 0))\n",
        "    newImage.paste(img, (4,wtop))\n",
        "else:\n",
        "    nwidth = int(round((25.0/height*width), 0)) #1\n",
        "    if(nwidth == 0):\n",
        "        nwidth = 1\n",
        "    img = im.resize((nwidth, 25), Image.ANTIALIAS).filter(ImageFilter.SHARPEN) #1\n",
        "    wleft = int(round(((28-nwidth)/2), 0))\n",
        "    newImage.paste(img, (wleft, 4))\n",
        "​\n",
        "tv = list(newImage.getdata())\n",
        "tva = [(255-x) *1.0 / 255.0 for x in tv]\n",
        "\n",
        "​\n",
        "newArr = [[0 for d in range(28)] for y in range(28)]\n",
        "k = 0\n",
        "for i in range(28):\n",
        "    for j in range(28):\n",
        "        newArr[i][j] = tva[k]\n",
        "        k = k+1\n",
        "              \n",
        "plt.imshow(newArr, interpolation = 'nearest', cmap='Greys_r')\n",
        "plt.show()\n",
        "test_x = np.array(newArr)\n",
        "test_x = test_x.reshape(1, 1, 28, 28)\n",
        "test_x  = torch.from_numpy(test_x)\n",
        "predict(test_x)"
      ],
      "execution_count": null,
      "outputs": [
        {
          "output_type": "error",
          "ename": "SyntaxError",
          "evalue": "ignored",
          "traceback": [
            "\u001b[0;36m  File \u001b[0;32m\"<ipython-input-8-30a9dde97046>\"\u001b[0;36m, line \u001b[0;32m6\u001b[0m\n\u001b[0;31m    ​\u001b[0m\n\u001b[0m    ^\u001b[0m\n\u001b[0;31mSyntaxError\u001b[0m\u001b[0;31m:\u001b[0m invalid character in identifier\n"
          ]
        }
      ]
    },
    {
      "cell_type": "markdown",
      "metadata": {
        "id": "-n-LHOMTVkpo"
      },
      "source": [
        "# **Identification Using TensorFlow**"
      ]
    },
    {
      "cell_type": "markdown",
      "metadata": {
        "id": "SibWk2L3V6AN"
      },
      "source": [
        "Imports:"
      ]
    },
    {
      "cell_type": "code",
      "metadata": {
        "id": "ZboMLTUSV7ic"
      },
      "source": [
        "import tensorflow as tf\n",
        "import IPython.display as display\n",
        "from PIL import Image\n",
        "import numpy as np\n",
        "import matplotlib.pyplot as plt\n",
        "from tensorflow.keras import datasets, layers, models\n",
        "\n",
        "AUTOTUNE = tf.data.experimental.AUTOTUNE"
      ],
      "execution_count": null,
      "outputs": []
    },
    {
      "cell_type": "markdown",
      "metadata": {
        "id": "Ho2Bak9kVrPV"
      },
      "source": [
        "**Process Data**"
      ]
    },
    {
      "cell_type": "code",
      "metadata": {
        "id": "S_XV7lwRWhIH"
      },
      "source": [
        "train = pd.read_csv('./drive/My Drive/sign-language-mnist/sign_mnist_train.csv')\n",
        "test = pd.read_csv('./drive/My Drive/sign-language-mnist/sign_mnist_test.csv')"
      ],
      "execution_count": null,
      "outputs": []
    },
    {
      "cell_type": "code",
      "metadata": {
        "id": "Sbs1Ia-WWnpk"
      },
      "source": [
        "#Training Data\n",
        "train_labels = train['label'].values\n",
        "train.drop('label', axis = 1, inplace = True)\n",
        "train_images = train.values\n",
        "train_images = np.array([np.reshape(i, (28, 28)) for i in train_images])\n",
        "\n",
        "#Testing Data\n",
        "test_labels = test['label'].values\n",
        "test.drop('label', axis = 1, inplace = True)\n",
        "test_images = test.values\n",
        "test_images = np.array([np.reshape(i, (28, 28)) for i in test_images])\n",
        "\n",
        "#Normalizing images\n",
        "train_images = train_images / 255.0\n",
        "test_images = test_images / 255.0\n",
        "\n",
        "#Defining Class Names \n",
        "class_names = ['a', 'b', 'c', 'd', 'e',\n",
        "               'f', 'g', 'h', 'i','j', 'k', 'l', 'm', 'n', 'o', 'p', 'q', 'r', 's', 't','u','v','w',\n",
        "              'x', 'y']"
      ],
      "execution_count": null,
      "outputs": []
    },
    {
      "cell_type": "markdown",
      "metadata": {
        "id": "GrwwZ4TpWvXL"
      },
      "source": [
        "Sample of 25 images from dataset, with their respective classifications"
      ]
    },
    {
      "cell_type": "code",
      "metadata": {
        "id": "ShKA3agjWwH2",
        "outputId": "6bd5aaaf-2386-4fe6-ffc8-09560dbeaee4",
        "colab": {
          "base_uri": "https://localhost:8080/",
          "height": 589
        }
      },
      "source": [
        "plt.figure(figsize=(10,10))\n",
        "for i in range(25):\n",
        "    plt.subplot(5,5,i+1)\n",
        "    plt.xticks([])\n",
        "    plt.yticks([])\n",
        "    plt.grid(False)\n",
        "    plt.imshow(train_images[i], cmap=plt.cm.binary)\n",
        "    plt.xlabel(class_names[train_labels[i]])\n",
        "plt.show()"
      ],
      "execution_count": null,
      "outputs": [
        {
          "output_type": "display_data",
          "data": {
            "image/png": "[encoded data removed]",
            "text/plain": [
              "<Figure size 720x720 with 25 Axes>"
            ]
          },
          "metadata": {
            "tags": []
          }
        }
      ]
    },
    {
      "cell_type": "markdown",
      "metadata": {
        "id": "EaDhUC4LW0hJ"
      },
      "source": [
        "**Neural Network Model**\n",
        "\n",
        "Layers:\n",
        "\n",
        "1.   Converts images from (28x28) array into one dimensional array of 784 pixels.\n",
        "2.   Fully connected neural layer with 128 nodes.\n",
        "3.   Consists of 25 nodes which return an array of 25 probability scores summing to 1 that indicate the probability of an image belonging to that class.\n",
        "\n",
        "Model Settings:\n",
        "*   Optimizer controls how model is updated based on the data and loss function.\n",
        "*  Loss function measures accuracy during training.\n",
        "* Metrics moniters training and testing steps with accuracy representing the fraction of images that are correctly classified.\n"
      ]
    },
    {
      "cell_type": "code",
      "metadata": {
        "id": "VXYJHOUaW2ee"
      },
      "source": [
        "from tensorflow import keras\n",
        "model = keras.Sequential([\n",
        "    keras.layers.Flatten(input_shape=(28, 28)),\n",
        "    keras.layers.Dense(64, activation='relu'),\n",
        "    keras.layers.Dense(25, activation='softmax')\n",
        "])"
      ],
      "execution_count": null,
      "outputs": []
    },
    {
      "cell_type": "code",
      "metadata": {
        "id": "J38MOesAYrKD"
      },
      "source": [
        "model.compile(optimizer='adam',\n",
        "              loss='sparse_categorical_crossentropy',\n",
        "              metrics=['accuracy'])"
      ],
      "execution_count": null,
      "outputs": []
    },
    {
      "cell_type": "code",
      "metadata": {
        "id": "np0a68DcYtxQ",
        "outputId": "3590e506-c121-416a-d01b-418dee8559a5",
        "colab": {
          "base_uri": "https://localhost:8080/",
          "height": 68
        }
      },
      "source": [
        "model.fit(train_images, train_labels, epochs=1)"
      ],
      "execution_count": null,
      "outputs": [
        {
          "output_type": "stream",
          "text": [
            "Train on 27455 samples\n",
            "27455/27455 [==============================] - 2s 81us/sample - loss: 2.5583 - acc: 0.2343\n"
          ],
          "name": "stdout"
        },
        {
          "output_type": "execute_result",
          "data": {
            "text/plain": [
              "<tensorflow.python.keras.callbacks.History at 0x7fa718937e80>"
            ]
          },
          "metadata": {
            "tags": []
          },
          "execution_count": 88
        }
      ]
    },
    {
      "cell_type": "markdown",
      "metadata": {
        "id": "IGdUYRNvYvwz"
      },
      "source": [
        "**Evaluation**\n",
        "\n",
        "Model above reached accuracy of around 80% on the training data."
      ]
    },
    {
      "cell_type": "code",
      "metadata": {
        "id": "ZBkBTzk-Y3Bi",
        "outputId": "3ff678e4-0ddc-405d-cee3-a90b03b6b04d",
        "colab": {
          "base_uri": "https://localhost:8080/",
          "height": 68
        }
      },
      "source": [
        "test_loss, test_acc = model.evaluate(test_images,  test_labels, verbose=2)\n",
        "\n",
        "print('\\nTest accuracy:', test_acc)"
      ],
      "execution_count": null,
      "outputs": [
        {
          "output_type": "stream",
          "text": [
            "7172/7172 - 0s - loss: 2.0284 - acc: 0.3783\n",
            "\n",
            "Test accuracy: 0.37827665\n"
          ],
          "name": "stdout"
        }
      ]
    },
    {
      "cell_type": "markdown",
      "metadata": {
        "id": "wQoxPM_IY5to"
      },
      "source": [
        "The accuracy on the test data was slightly less, around 71%. This indicates *overfitting* which occurs when a model does not perform as well on data that it has not yet seen compared to the training set."
      ]
    },
    {
      "cell_type": "markdown",
      "metadata": {
        "id": "jfnmvH80W8n_"
      },
      "source": [
        "**Example Predictions**"
      ]
    },
    {
      "cell_type": "code",
      "metadata": {
        "id": "rvHFk4QQZAdh"
      },
      "source": [
        "predictions = model.predict(test_images)"
      ],
      "execution_count": null,
      "outputs": []
    },
    {
      "cell_type": "code",
      "metadata": {
        "id": "b5W5-aicZRMO"
      },
      "source": [
        "def plot_image(i, predictions_array, true_label, img):\n",
        "  predictions_array, true_label, img = predictions_array, true_label[i], img[i]\n",
        "  plt.grid(False)\n",
        "  plt.xticks([])\n",
        "  plt.yticks([])\n",
        "\n",
        "  plt.imshow(img, cmap=plt.cm.binary)\n",
        "\n",
        "  predicted_label = np.argmax(predictions_array)\n",
        "  if predicted_label == true_label:\n",
        "    color = 'blue'\n",
        "  else:\n",
        "    color = 'red'\n",
        "\n",
        "  plt.xlabel(\"{} {:2.0f}% ({})\".format(class_names[predicted_label],\n",
        "                                100*np.max(predictions_array),\n",
        "                                class_names[true_label]),\n",
        "                                color=color)\n",
        "\n",
        "def plot_value_array(i, predictions_array, true_label):\n",
        "  predictions_array, true_label = predictions_array, true_label[i]\n",
        "  plt.grid(False)\n",
        "  plt.xticks(range(25))\n",
        "  plt.yticks([])\n",
        "  thisplot = plt.bar(range(25), predictions_array, color=\"#777777\")\n",
        "  plt.ylim([0, 1])\n",
        "  predicted_label = np.argmax(predictions_array)\n",
        "\n",
        "  thisplot[predicted_label].set_color('red')\n",
        "  thisplot[true_label].set_color('blue')"
      ],
      "execution_count": null,
      "outputs": []
    },
    {
      "cell_type": "code",
      "metadata": {
        "id": "6hXSfdkYZmJ2",
        "outputId": "adde120a-9294-4be9-a7c7-796db0160d40",
        "colab": {
          "base_uri": "https://localhost:8080/",
          "height": 749
        }
      },
      "source": [
        "# Plot the first X test images, their predicted labels, and the true labels.\n",
        "# Color correct predictions in blue and incorrect predictions in red.\n",
        "num_rows = 5\n",
        "num_cols = 3\n",
        "num_images = num_rows*num_cols\n",
        "plt.figure(figsize=(2*2*num_cols, 2*num_rows))\n",
        "for i in range(num_images):\n",
        "  plt.subplot(num_rows, 2*num_cols, 2*i+1)\n",
        "  plot_image(i, predictions[i], test_labels, test_images)\n",
        "  plt.subplot(num_rows, 2*num_cols, 2*i+2)\n",
        "  plot_value_array(i, predictions[i], test_labels)\n",
        "plt.tight_layout()\n",
        "plt.show()"
      ],
      "execution_count": null,
      "outputs": [
        {
          "output_type": "display_data",
          "data": {
            "image/png": "[encoded data removed]",
            "text/plain": [
              "<Figure size 864x720 with 30 Axes>"
            ]
          },
          "metadata": {
            "tags": []
          }
        }
      ]
    },
    {
      "cell_type": "markdown",
      "metadata": {
        "id": "GElhzLgNZqFL"
      },
      "source": [
        "Use model to make a prediction about a single image. "
      ]
    },
    {
      "cell_type": "code",
      "metadata": {
        "id": "FyurAsecZtdV",
        "outputId": "aedf814e-29b1-4699-9606-824bde6a05b0",
        "colab": {
          "base_uri": "https://localhost:8080/",
          "height": 303
        }
      },
      "source": [
        "# Grab an image from the test dataset.\n",
        "img = test_images[1]\n",
        "\n",
        "# Add the image to a batch where it's the only member.\n",
        "print (img.shape)\n",
        "img = (np.expand_dims(img,0))\n",
        "print(img.shape)\n",
        "\n",
        "predictions_single = model.predict(img)\n",
        "\n",
        "plot_value_array(1, predictions_single[0], test_labels)\n",
        "_ = plt.xticks(range(24), class_names, rotation=45)"
      ],
      "execution_count": null,
      "outputs": [
        {
          "output_type": "stream",
          "text": [
            "(28, 28)\n",
            "(1, 28, 28)\n"
          ],
          "name": "stdout"
        },
        {
          "output_type": "display_data",
          "data": {
            "image/png": "[encoded data removed]",
            "text/plain": [
              "<Figure size 432x288 with 1 Axes>"
            ]
          },
          "metadata": {
            "tags": []
          }
        }
      ]
    },
    {
      "cell_type": "code",
      "metadata": {
        "id": "07pAKfIFSgTZ"
      },
      "source": [
        "#upload images\n",
        "imageL_path = './drive/My Drive/L.jpg'\n",
        "imageW_path = './drive/My Drive/W.jpg'\n",
        "imageA_path = './drive/My Drive/W.jpg'\n",
        "\n",
        "imageLw_path = './drive/My Drive/IMG_5240.JPG'\n",
        "imageWw_path = './drive/My Drive/IMG_5243.JPG'\n",
        "imageAw_path = './drive/My Drive/IMG_5244.JPG'\n",
        "\n",
        "imgL = Image.open(imageL_path)\n",
        "imgW = Image.open(imageW_path)\n",
        "imgA = Image.open(imageA_path)\n",
        "imgLw = Image.open(imageLw_path)\n",
        "imgWw = Image.open(imageWw_path)\n",
        "imgAw = Image.open(imageAw_path)"
      ],
      "execution_count": null,
      "outputs": []
    },
    {
      "cell_type": "code",
      "metadata": {
        "id": "pSQmKRVwSkFY"
      },
      "source": [
        "def NN_reshape(img):\n",
        "  img = img.convert('L')\n",
        "  img_shaped = np.array(img.resize((28, 28), Image.ANTIALIAS))\n",
        "  img_shaped.reshape(28,28)\n",
        "  img_shaped = img_shaped/255\n",
        "  img_shaped = np.expand_dims(img_shaped,0)\n",
        "  #print (img_shaped)\n",
        "  return (img_shaped)\n"
      ],
      "execution_count": null,
      "outputs": []
    },
    {
      "cell_type": "code",
      "metadata": {
        "id": "VQxfWc3_vvIb"
      },
      "source": [
        "single_L = NN_reshape(imgL)\n",
        "single_W = NN_reshape(imgW)\n",
        "single_A = NN_reshape(imgA)\n",
        "single_Lw = NN_reshape(imgLw)\n",
        "single_Ww = NN_reshape(imgWw)\n",
        "single_Aw = NN_reshape(imgAw)\n"
      ],
      "execution_count": null,
      "outputs": []
    },
    {
      "cell_type": "code",
      "metadata": {
        "id": "Thn0yYKWZUIR"
      },
      "source": [
        "predictions_L = model.predict(single_L)\n",
        "predictions_W = model.predict(single_W)\n",
        "predictions_A = model.predict(single_A)\n",
        "predictions_Lw = model.predict(single_Lw)\n",
        "predictions_Ww = model.predict(single_Ww)\n",
        "predictions_Aw = model.predict(single_Aw)\n"
      ],
      "execution_count": null,
      "outputs": []
    },
    {
      "cell_type": "code",
      "metadata": {
        "id": "W8xLcy_Il5Kp",
        "outputId": "4d0baf2f-4a1d-439e-c762-b7bd601f9d02",
        "colab": {
          "base_uri": "https://localhost:8080/",
          "height": 286
        }
      },
      "source": [
        "print (\"L\")\n",
        "plot_value_array(0, predictions_L[0], [11])\n",
        "_ = plt.xticks(range(24), class_names, rotation=45)\n"
      ],
      "execution_count": null,
      "outputs": [
        {
          "output_type": "stream",
          "text": [
            "L\n"
          ],
          "name": "stdout"
        },
        {
          "output_type": "display_data",
          "data": {
            "image/png": "[encoded data removed]",
            "text/plain": [
              "<Figure size 432x288 with 1 Axes>"
            ]
          },
          "metadata": {
            "tags": []
          }
        }
      ]
    },
    {
      "cell_type": "code",
      "metadata": {
        "id": "IxrvGjbYwlXJ",
        "outputId": "891d290a-e4ce-4970-b305-23a3564d41b9",
        "colab": {
          "base_uri": "https://localhost:8080/",
          "height": 286
        }
      },
      "source": [
        "print (\"W\")\n",
        "plot_value_array(0, predictions_W[0], [22])\n",
        "_ = plt.xticks(range(24), class_names, rotation=45)"
      ],
      "execution_count": null,
      "outputs": [
        {
          "output_type": "stream",
          "text": [
            "W\n"
          ],
          "name": "stdout"
        },
        {
          "output_type": "display_data",
          "data": {
            "image/png": "[encoded data removed]",
            "text/plain": [
              "<Figure size 432x288 with 1 Axes>"
            ]
          },
          "metadata": {
            "tags": []
          }
        }
      ]
    },
    {
      "cell_type": "code",
      "metadata": {
        "id": "_SLS_yAVwpTQ",
        "outputId": "3ba6301d-dcef-49dc-8b86-40df5ae4124d",
        "colab": {
          "base_uri": "https://localhost:8080/",
          "height": 286
        }
      },
      "source": [
        "print (\"A\")\n",
        "plot_value_array(0, predictions_A[0], [0])\n",
        "_ = plt.xticks(range(24), class_names, rotation=45)"
      ],
      "execution_count": null,
      "outputs": [
        {
          "output_type": "stream",
          "text": [
            "A\n"
          ],
          "name": "stdout"
        },
        {
          "output_type": "display_data",
          "data": {
            "image/png": "[encoded data removed]",
            "text/plain": [
              "<Figure size 432x288 with 1 Axes>"
            ]
          },
          "metadata": {
            "tags": []
          }
        }
      ]
    },
    {
      "cell_type": "code",
      "metadata": {
        "id": "hP5hBP4SwrYg",
        "outputId": "e5f41218-0231-4636-b238-f4744f77f467",
        "colab": {
          "base_uri": "https://localhost:8080/",
          "height": 286
        }
      },
      "source": [
        "print (\"Lw\")\n",
        "plot_value_array(0, predictions_Lw[0], [11])\n",
        "_ = plt.xticks(range(24), class_names, rotation=45)"
      ],
      "execution_count": null,
      "outputs": [
        {
          "output_type": "stream",
          "text": [
            "Lw\n"
          ],
          "name": "stdout"
        },
        {
          "output_type": "display_data",
          "data": {
            "image/png": "[encoded data removed]",
            "text/plain": [
              "<Figure size 432x288 with 1 Axes>"
            ]
          },
          "metadata": {
            "tags": []
          }
        }
      ]
    },
    {
      "cell_type": "code",
      "metadata": {
        "id": "xZj46pn_wsFO",
        "outputId": "fa8eb021-0fed-4cca-9164-2cbf7a473e31",
        "colab": {
          "base_uri": "https://localhost:8080/",
          "height": 286
        }
      },
      "source": [
        "print (\"Ww\")\n",
        "plot_value_array(0, predictions_Ww[0], [22])\n",
        "_ = plt.xticks(range(24), class_names, rotation=45)"
      ],
      "execution_count": null,
      "outputs": [
        {
          "output_type": "stream",
          "text": [
            "Ww\n"
          ],
          "name": "stdout"
        },
        {
          "output_type": "display_data",
          "data": {
            "image/png": "[encoded data removed]",
            "text/plain": [
              "<Figure size 432x288 with 1 Axes>"
            ]
          },
          "metadata": {
            "tags": []
          }
        }
      ]
    },
    {
      "cell_type": "code",
      "metadata": {
        "id": "QinjEFtNwsXv",
        "outputId": "e4fb4162-f3da-4aa1-8654-19911d82b6d9",
        "colab": {
          "base_uri": "https://localhost:8080/",
          "height": 286
        }
      },
      "source": [
        "print (\"Aw\")\n",
        "plot_value_array(0, predictions_Aw[0], [0])\n",
        "_ = plt.xticks(range(24), class_names, rotation=45)"
      ],
      "execution_count": null,
      "outputs": [
        {
          "output_type": "stream",
          "text": [
            "Aw\n"
          ],
          "name": "stdout"
        },
        {
          "output_type": "display_data",
          "data": {
            "image/png": "[encoded data removed]",
            "text/plain": [
              "<Figure size 432x288 with 1 Axes>"
            ]
          },
          "metadata": {
            "tags": []
          }
        }
      ]
    },
    {
      "cell_type": "markdown",
      "metadata": {
        "id": "dd93psD5aBKx"
      },
      "source": [
        "**Convolutional Neural Networks**\n",
        "\n",
        "\n",
        "Convolutional Base:\n",
        "\n",
        "6 layers of Conv2d and MaxPooling2D layers.\n",
        "\n",
        "Inputs:\n",
        "\n",
        "\n",
        "*   Input shape includes (image_height, image_width, color range)\n",
        "*   The activation function used is Rectified Linear Unit (relu),  defined by f(x) = max(0,x), which is used due to its simplicity which makes it computationally fast and has fewer vanishing gradients. \n",
        "\n",
        "\n"
      ]
    },
    {
      "cell_type": "code",
      "metadata": {
        "id": "NaMgJ34ivIK2"
      },
      "source": [
        "model = models.Sequential()\n",
        "model.add(layers.Conv2D(32, (3, 3), activation='relu', input_shape=(28, 28, 1))) \n",
        "model.add(layers.MaxPooling2D((2, 2)))\n",
        "model.add(layers.Conv2D(32, (3, 3), activation='relu'))\n",
        "model.add(layers.MaxPooling2D((2, 2)))\n",
        "model.add(layers.Conv2D(32, (3, 3), activation='relu'))"
      ],
      "execution_count": null,
      "outputs": []
    },
    {
      "cell_type": "markdown",
      "metadata": {
        "id": "tXXZEDlLxF8u"
      },
      "source": [
        "Feed output into dense layers for classification. 25 outputs for our class labels and a softmax activation (a generalized logistic regression for multiple classes) "
      ]
    },
    {
      "cell_type": "code",
      "metadata": {
        "id": "jQKUArzQySrm"
      },
      "source": [
        "model.add(layers.Flatten())\n",
        "model.add(layers.Dense(32, activation='relu'))\n",
        "model.add(layers.Dense(25, activation='softmax'))\n",
        "\n",
        "train_images_new = train_images.reshape(-1,28, 28, 1)   #Reshape for CNN \n",
        "test_images_new = test_images.reshape(-1,28, 28, 1)"
      ],
      "execution_count": null,
      "outputs": []
    },
    {
      "cell_type": "markdown",
      "metadata": {
        "id": "l7RA6iKUyVQq"
      },
      "source": [
        "Compile and train model. "
      ]
    },
    {
      "cell_type": "code",
      "metadata": {
        "id": "nHFrSkqhycF-",
        "outputId": "dd460357-5500-4b04-e08a-1c9add470a54",
        "colab": {
          "base_uri": "https://localhost:8080/",
          "height": 71
        }
      },
      "source": [
        "model.compile(optimizer='adam',\n",
        "              loss='sparse_categorical_crossentropy',\n",
        "              metrics=['accuracy'])\n",
        "\n",
        "history = model.fit(train_images_new, train_labels, epochs=1, \n",
        "                    validation_data=(test_images_new, test_labels))"
      ],
      "execution_count": null,
      "outputs": [
        {
          "output_type": "stream",
          "text": [
            "Train on 27455 samples, validate on 7172 samples\n",
            "27455/27455 [==============================] - 23s 830us/sample - loss: 0.2281 - acc: 0.9298 - val_loss: 0.4483 - val_acc: 0.8604\n"
          ],
          "name": "stdout"
        }
      ]
    },
    {
      "cell_type": "markdown",
      "metadata": {
        "id": "Fz6WjwyjyhMk"
      },
      "source": [
        "**Evaluation**"
      ]
    },
    {
      "cell_type": "code",
      "metadata": {
        "id": "EMOslqHByoJ4",
        "outputId": "965f9da4-ca9c-44fb-884e-49c61a7acbc3",
        "colab": {
          "base_uri": "https://localhost:8080/",
          "height": 300
        }
      },
      "source": [
        "plt.plot(history.history['acc'], label='accuracy')\n",
        "plt.plot(history.history['val_acc'], label = 'val_accuracy')\n",
        "plt.xlabel('Epoch')\n",
        "plt.ylabel('Accuracy')\n",
        "plt.ylim([0.5, 1.1])\n",
        "plt.legend(loc='lower right')\n",
        "\n",
        "test_loss, test_acc = model.evaluate(test_images_new,  test_labels, verbose=2)"
      ],
      "execution_count": null,
      "outputs": [
        {
          "output_type": "stream",
          "text": [
            "7172/7172 - 1s - loss: 0.7438 - acc: 0.7425\n"
          ],
          "name": "stdout"
        },
        {
          "output_type": "display_data",
          "data": {
            "image/png": "[encoded data removed]",
            "text/plain": [
              "<Figure size 432x288 with 1 Axes>"
            ]
          },
          "metadata": {
            "tags": []
          }
        }
      ]
    },
    {
      "cell_type": "code",
      "metadata": {
        "id": "ZJrnHLP1yySM",
        "outputId": "04e0dffa-7649-4c5f-bf78-24fa19329fee",
        "colab": {
          "base_uri": "https://localhost:8080/",
          "height": 34
        }
      },
      "source": [
        "print(test_acc)"
      ],
      "execution_count": null,
      "outputs": [
        {
          "output_type": "stream",
          "text": [
            "0.74247074\n"
          ],
          "name": "stdout"
        }
      ]
    },
    {
      "cell_type": "markdown",
      "metadata": {
        "id": "2lMK2Ebly-yr"
      },
      "source": [
        "\n",
        "\n",
        "*   Accuracy: accuracy on batch of training data. \n",
        "*   Val Accuracy: accuracy on the validation set- i.e. the set that had not yet been seen by the model. \n",
        "\n"
      ]
    },
    {
      "cell_type": "code",
      "metadata": {
        "id": "DnlrJ9LQj2Xy",
        "outputId": "efd45fdd-e762-416f-fd94-8068a88939c9",
        "colab": {
          "base_uri": "https://localhost:8080/",
          "height": 300
        }
      },
      "source": [
        "plt.plot(history.history['loss'], label='loss')\n",
        "plt.plot(history.history['val_loss'], label = 'val_loss')\n",
        "plt.xlabel('Epoch')\n",
        "plt.ylabel('Loss')\n",
        "plt.ylim([0, 1])\n",
        "plt.legend(loc='lower right')"
      ],
      "execution_count": null,
      "outputs": [
        {
          "output_type": "execute_result",
          "data": {
            "text/plain": [
              "<matplotlib.legend.Legend at 0x7fc3dd5c3898>"
            ]
          },
          "metadata": {
            "tags": []
          },
          "execution_count": 49
        },
        {
          "output_type": "display_data",
          "data": {
            "image/png": "[encoded data removed]",
            "text/plain": [
              "<Figure size 432x288 with 1 Axes>"
            ]
          },
          "metadata": {
            "tags": []
          }
        }
      ]
    },
    {
      "cell_type": "code",
      "metadata": {
        "id": "BuWjDyv-gbk9"
      },
      "source": [
        "predictions = model.predict(test_images_new)"
      ],
      "execution_count": null,
      "outputs": []
    },
    {
      "cell_type": "code",
      "metadata": {
        "id": "mHuljoEKgO8C",
        "outputId": "d60b65a2-5dd6-476f-bfe4-5229e6896e65",
        "colab": {
          "base_uri": "https://localhost:8080/",
          "height": 729
        }
      },
      "source": [
        "# Plot the first X test images, their predicted labels, and the true labels.\n",
        "# Color correct predictions in blue and incorrect predictions in red.\n",
        "num_rows = 5\n",
        "num_cols = 3\n",
        "num_images = num_rows*num_cols\n",
        "plt.figure(figsize=(2*2*num_cols, 2*num_rows))\n",
        "for i in range(num_images):\n",
        "  plt.subplot(num_rows, 2*num_cols, 2*i+1)\n",
        "  plot_image(i, predictions[i], test_labels, test_images)\n",
        "  plt.subplot(num_rows, 2*num_cols, 2*i+2)\n",
        "  plot_value_array(i, predictions[i], test_labels)\n",
        "plt.tight_layout()\n",
        "plt.show()"
      ],
      "execution_count": null,
      "outputs": [
        {
          "output_type": "display_data",
          "data": {
            "image/png": "[encoded data removed]",
            "text/plain": [
              "<Figure size 864x720 with 30 Axes>"
            ]
          },
          "metadata": {
            "tags": []
          }
        }
      ]
    },
    {
      "cell_type": "markdown",
      "metadata": {
        "id": "BEDk6Vhdh-aM"
      },
      "source": [
        "# **CNN Evaluation Against Practical Images**"
      ]
    },
    {
      "cell_type": "code",
      "metadata": {
        "id": "dkoBdR1TiLaF"
      },
      "source": [
        "def CNN_reshape(img):\n",
        "  img = img.convert('L')\n",
        "  img_28x28 = np.array(img.resize((28, 28), Image.ANTIALIAS))\n",
        "  test = img_28x28.reshape(-1,28, 28, 1)\n",
        "  test = test/255\n",
        "  return test\n",
        "\n"
      ],
      "execution_count": null,
      "outputs": []
    },
    {
      "cell_type": "code",
      "metadata": {
        "id": "llKsamFFiTEj",
        "outputId": "8c1efde3-ebfa-44e3-b60f-53d22b1828c2",
        "colab": {
          "base_uri": "https://localhost:8080/",
          "height": 513
        }
      },
      "source": [
        "plt.figure()\n",
        "plt.imshow(img_28x28)\n",
        "plt.colorbar()\n",
        "plt.grid(False)\n",
        "plt.show()\n",
        "\n",
        "plt.figure()\n",
        "plt.imshow(img2_28x28)\n",
        "plt.colorbar()\n",
        "plt.grid(False)\n",
        "plt.show()"
      ],
      "execution_count": null,
      "outputs": [
        {
          "output_type": "display_data",
          "data": {
            "image/png": "[encoded data removed]",
            "text/plain": [
              "<Figure size 432x288 with 2 Axes>"
            ]
          },
          "metadata": {
            "tags": []
          }
        },
        {
          "output_type": "display_data",
          "data": {
            "image/png": "[encoded data removed]",
            "text/plain": [
              "<Figure size 432x288 with 2 Axes>"
            ]
          },
          "metadata": {
            "tags": []
          }
        }
      ]
    },
    {
      "cell_type": "code",
      "metadata": {
        "id": "5pRznFzHzcWz"
      },
      "source": [
        "single_L = CNN_reshape(imgL)\n",
        "single_W = CNN_reshape(imgW)\n",
        "single_A = CNN_reshape(imgA)\n",
        "single_Lw = CNN_reshape(imgLw)\n",
        "single_Ww = CNN_reshape(imgWw)\n",
        "single_Aw = CNN_reshape(imgAw)"
      ],
      "execution_count": null,
      "outputs": []
    },
    {
      "cell_type": "code",
      "metadata": {
        "id": "fhO9SheBzhq_"
      },
      "source": [
        "predictions_L = model.predict(single_L)\n",
        "predictions_W = model.predict(single_W)\n",
        "predictions_A = model.predict(single_A)\n",
        "predictions_Lw = model.predict(single_Lw)\n",
        "predictions_Ww = model.predict(single_Ww)\n",
        "predictions_Aw = model.predict(single_Aw)"
      ],
      "execution_count": null,
      "outputs": []
    },
    {
      "cell_type": "code",
      "metadata": {
        "id": "P3uDOWgJzlwM",
        "outputId": "9094424a-3448-483d-9f15-c54343c17846",
        "colab": {
          "base_uri": "https://localhost:8080/",
          "height": 286
        }
      },
      "source": [
        "print (\"L\")\n",
        "plot_value_array(1, predictions_L[0], test_labels)\n",
        "_ = plt.xticks(range(24), class_names, rotation=45)\n"
      ],
      "execution_count": null,
      "outputs": [
        {
          "output_type": "stream",
          "text": [
            "L\n"
          ],
          "name": "stdout"
        },
        {
          "output_type": "display_data",
          "data": {
            "image/png": "[encoded data removed]",
            "text/plain": [
              "<Figure size 432x288 with 1 Axes>"
            ]
          },
          "metadata": {
            "tags": []
          }
        }
      ]
    },
    {
      "cell_type": "code",
      "metadata": {
        "id": "w0LFWLwX1OfF",
        "outputId": "53bae24d-68e0-43be-b6d5-dd522db6d8d2",
        "colab": {
          "base_uri": "https://localhost:8080/",
          "height": 286
        }
      },
      "source": [
        "print (\"W\")\n",
        "plot_value_array(1, predictions_W[0], test_labels)\n",
        "_ = plt.xticks(range(24), class_names, rotation=45)"
      ],
      "execution_count": null,
      "outputs": [
        {
          "output_type": "stream",
          "text": [
            "W\n"
          ],
          "name": "stdout"
        },
        {
          "output_type": "display_data",
          "data": {
            "image/png": "[encoded data removed]",
            "text/plain": [
              "<Figure size 432x288 with 1 Axes>"
            ]
          },
          "metadata": {
            "tags": []
          }
        }
      ]
    },
    {
      "cell_type": "code",
      "metadata": {
        "id": "AnlrK07v1Wpr",
        "outputId": "36cbc59f-fb24-42a0-bf0c-109215c11e49",
        "colab": {
          "base_uri": "https://localhost:8080/",
          "height": 286
        }
      },
      "source": [
        "print (\"A\")\n",
        "plot_value_array(1, predictions_A[0], test_labels)\n",
        "_ = plt.xticks(range(24), class_names, rotation=45)"
      ],
      "execution_count": null,
      "outputs": [
        {
          "output_type": "stream",
          "text": [
            "A\n"
          ],
          "name": "stdout"
        },
        {
          "output_type": "display_data",
          "data": {
            "image/png": "[encoded data removed]",
            "text/plain": [
              "<Figure size 432x288 with 1 Axes>"
            ]
          },
          "metadata": {
            "tags": []
          }
        }
      ]
    },
    {
      "cell_type": "code",
      "metadata": {
        "id": "v2o-OlvL1Y6a",
        "outputId": "ed6b1e4c-136b-4b34-83e9-ea6525fc583a",
        "colab": {
          "base_uri": "https://localhost:8080/",
          "height": 286
        }
      },
      "source": [
        "print (\"Lw\")\n",
        "plot_value_array(1, predictions_Lw[0], test_labels)\n",
        "_ = plt.xticks(range(24), class_names, rotation=45)"
      ],
      "execution_count": null,
      "outputs": [
        {
          "output_type": "stream",
          "text": [
            "Lw\n"
          ],
          "name": "stdout"
        },
        {
          "output_type": "display_data",
          "data": {
            "image/png": "[encoded data removed]",
            "text/plain": [
              "<Figure size 432x288 with 1 Axes>"
            ]
          },
          "metadata": {
            "tags": []
          }
        }
      ]
    },
    {
      "cell_type": "code",
      "metadata": {
        "id": "jXuHb3NF1cjg",
        "outputId": "c179a5e2-19f0-4aa1-fccb-0b9255b060c2",
        "colab": {
          "base_uri": "https://localhost:8080/",
          "height": 286
        }
      },
      "source": [
        "print (\"Ww\")\n",
        "plot_value_array(1, predictions_Ww[0], test_labels)\n",
        "_ = plt.xticks(range(24), class_names, rotation=45)"
      ],
      "execution_count": null,
      "outputs": [
        {
          "output_type": "stream",
          "text": [
            "Ww\n"
          ],
          "name": "stdout"
        },
        {
          "output_type": "display_data",
          "data": {
            "image/png": "[encoded data removed]",
            "text/plain": [
              "<Figure size 432x288 with 1 Axes>"
            ]
          },
          "metadata": {
            "tags": []
          }
        }
      ]
    },
    {
      "cell_type": "code",
      "metadata": {
        "id": "_gga4lNI1fiA",
        "outputId": "ee223bb1-c167-4857-c821-2e05d19c6eb4",
        "colab": {
          "base_uri": "https://localhost:8080/",
          "height": 286
        }
      },
      "source": [
        "print (\"Aw\")\n",
        "plot_value_array(1, predictions_W[0], test_labels)\n",
        "_ = plt.xticks(range(24), class_names, rotation=45)"
      ],
      "execution_count": null,
      "outputs": [
        {
          "output_type": "stream",
          "text": [
            "Aw\n"
          ],
          "name": "stdout"
        },
        {
          "output_type": "display_data",
          "data": {
            "image/png": "[encoded data removed]",
            "text/plain": [
              "<Figure size 432x288 with 1 Axes>"
            ]
          },
          "metadata": {
            "tags": []
          }
        }
      ]
    },
    {
      "cell_type": "markdown",
      "metadata": {
        "id": "O3vWl0VJ0b9m"
      },
      "source": [
        "# **\"NLP\"**"
      ]
    },
    {
      "cell_type": "code",
      "metadata": {
        "id": "GltC_6qa_K3T"
      },
      "source": [
        "words = open(\"./drive/My Drive/words_alpha.txt\").read().split()\n",
        "wordcost = dict((k, math.log((i+1)*math.log(len(words)))) for i,k in enumerate(words))\n",
        "maxlength = max(len(x) for x in words)"
      ],
      "execution_count": null,
      "outputs": []
    },
    {
      "cell_type": "code",
      "metadata": {
        "id": "5pRp2moC_0PG"
      },
      "source": [
        "def add_space(s):\n",
        "  def recurrence(i):\n",
        "        costs = reversed(opt[max(0, i-maxlength):i])\n",
        "        candidates = enumerate(costs)\n",
        "        best_cost_length = min((c + wordcost.get(s[i-l-1:i], 9e999), l+1) for l,c in candidates)\n",
        "        return best_cost_length \n",
        "  \n",
        "  opt = [0]\n",
        "  for i in range(1,len(s)+1):\n",
        "      c,l = recurrence(i)\n",
        "      opt.append(c)\n",
        "\n",
        "  result = []\n",
        "  i = len(s)\n",
        "  while i>0:\n",
        "      c,l = recurrence(i)\n",
        "      result.append(s[i-l:i])\n",
        "      i = i-l \n",
        "  \n",
        "  return \" \".join(reversed(result))"
      ],
      "execution_count": null,
      "outputs": []
    },
    {
      "cell_type": "code",
      "metadata": {
        "id": "RvKtbIbd8lti",
        "outputId": "c7a4d680-db8d-41fe-e062-09c307c9f8f0",
        "colab": {
          "base_uri": "https://localhost:8080/",
          "height": 34
        }
      },
      "source": [
        "s = 'hellotherehowareyou'\n",
        "print(add_space(s))"
      ],
      "execution_count": null,
      "outputs": [
        {
          "output_type": "stream",
          "text": [
            "hello there how are you\n"
          ],
          "name": "stdout"
        }
      ]
    },
    {
      "cell_type": "code",
      "metadata": {
        "id": "WVoHPJCrWjgP"
      },
      "source": [
        "trl = trial(opt)\n",
        "  for i in trl[0]:\n",
        "    print('Epoch: {} - Loss: {}'.format(i[0],i[1]))\n",
        "  plot_result(trl[1][0], trl[1][1])\n",
        "  predict()"
      ],
      "execution_count": null,
      "outputs": []
    },
    {
      "cell_type": "code",
      "metadata": {
        "id": "jYsZrHMwW4aG"
      },
      "source": [
        "def trial (optimizer,loss_log = [],acc_log = []):\n",
        "  result = []\n",
        "  for e in range(epochs):\n",
        "    for i in range(0, x.shape[0], batch_size):\n",
        "      x_min_i = x[i:i + batch_size] # Tensor with shape [55, 1, 28, 28]\n",
        "      y_min_i = y[i:i + batch_size] # Tensor with shape [55]\n",
        "\n",
        "      optimizer.zero_grad()\n",
        "      net_out = net(Variable(x_min_i))\n",
        "\n",
        "      loss = loss_func(net_out, Variable(y_min_i))\n",
        "      loss.backward()\n",
        "      optimizer.step()\n",
        "\n",
        "      if i % 1000 == 0:\n",
        "        # pred = net(Variable(test_data_tfm))\n",
        "        loss_log.append(loss.item())\n",
        "        acc_log.append(\n",
        "            net.evaluate(\n",
        "                torch.max\n",
        "                (\n",
        "                    net(Variable(test_data_tfm[:600])).data, 1) #Tensor with shape [7172, 1, 28, 28]\n",
        "                [1],\n",
        "                test_labels[:600]\n",
        "              )\n",
        "            )\n",
        "    result.append((e+1,loss.item()))\n",
        "    # print('Epoch: {} - Loss: {:.6f}'.format(e + 1, loss.item()))\n",
        "  return result,(loss_log,acc_log) \n",
        "  #returns a triplet containing\n",
        "  #results of Loss at each Epoch,\n",
        "  #the loss log\n",
        "  #the accuracy log"
      ],
      "execution_count": null,
      "outputs": []
    }
  ]
}